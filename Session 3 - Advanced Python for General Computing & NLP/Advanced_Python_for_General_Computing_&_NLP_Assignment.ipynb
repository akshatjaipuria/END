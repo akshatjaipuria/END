{
  "nbformat": 4,
  "nbformat_minor": 0,
  "metadata": {
    "colab": {
      "name": "Advanced Python for General Computing & NLP_Assignment.ipynb",
      "provenance": []
    },
    "kernelspec": {
      "name": "python3",
      "display_name": "Python 3"
    }
  },
  "cells": [
    {
      "cell_type": "code",
      "metadata": {
        "id": "eBay4nqh9iwd"
      },
      "source": [
        "import math\n",
        "import urllib.request\n",
        "from functools import reduce, partial\n",
        "from random import choice, randint\n",
        "import re"
      ],
      "execution_count": 20,
      "outputs": []
    },
    {
      "cell_type": "markdown",
      "metadata": {
        "id": "HAMOnSjR-Dab"
      },
      "source": [
        "## Question 1\n",
        "Write a function using only list filter lambda that can tell whether a number is a Fibonacci number or not. You can use a pre-calculated list/dict to store fab numbers till 10000."
      ]
    },
    {
      "cell_type": "code",
      "metadata": {
        "id": "FglNpJcb987A"
      },
      "source": [
        "# To calculate and store a set of Fibonacci numbers\n",
        "fib = [0, 1]\n",
        "[fib.append(fib[n-1] + fib[n-2]) for n in range(2, 50)]\n",
        "\n",
        "# From an input number, returns True if the number is a fibonacci, otherwise False.\n",
        "filter_fib = lambda l: l in fib"
      ],
      "execution_count": 6,
      "outputs": []
    },
    {
      "cell_type": "code",
      "metadata": {
        "id": "BwVcoTgL-RuN",
        "outputId": "c9a07c58-1eca-4085-c12e-f20c2b7c9e15",
        "colab": {
          "base_uri": "https://localhost:8080/"
        }
      },
      "source": [
        "# Usage\n",
        "print(f'100 is a fibonacci: {filter_fib(100)}')\n",
        "print(f'89 is a fibonacci: {filter_fib(89)}')"
      ],
      "execution_count": 7,
      "outputs": [
        {
          "output_type": "stream",
          "text": [
            "100 is a fibonacci: False\n",
            "89 is a fibonacci: True\n"
          ],
          "name": "stdout"
        }
      ]
    },
    {
      "cell_type": "markdown",
      "metadata": {
        "id": "MDUX56SY_SpD"
      },
      "source": [
        "## Question 2\n",
        "##### Using list comprehension (and zip/ lambda/ etc if required) write five different expressions that:"
      ]
    },
    {
      "cell_type": "markdown",
      "metadata": {
        "id": "6wjj7csR_sRW"
      },
      "source": [
        "##### 1. Add 2 iterables a and b such that a is even and b is odd"
      ]
    },
    {
      "cell_type": "code",
      "metadata": {
        "id": "_K7pHhu5_PTG"
      },
      "source": [
        "# From the two input lists, add all the even numbers from list1 and odd numbers of list2, correspondingly\n",
        "add_even_odd = lambda l1, l2: [x + y for x, y in zip(filter(lambda _: _%2==0 , l1), filter(lambda _: _%2!=0, l2))]"
      ],
      "execution_count": 8,
      "outputs": []
    },
    {
      "cell_type": "code",
      "metadata": {
        "id": "s2trV2bLAG67",
        "outputId": "9e3ec750-be4c-45e9-c5d4-a034c395ef04",
        "colab": {
          "base_uri": "https://localhost:8080/"
        }
      },
      "source": [
        "list1 = [1, 2, 3, 4, 5, 6, 7, 8, 9, 10]\n",
        "list2 = [11, 22, 33, 44, 55, 66, 77, 88, 99, 110]\n",
        "\n",
        "# Expected output: [2+11, 4+33, 6+55, 8+77, 10+99] = [13, 37, 61, 85, 109]\n",
        "print(add_even_odd(list1, list2))"
      ],
      "execution_count": 11,
      "outputs": [
        {
          "output_type": "stream",
          "text": [
            "[13, 37, 61, 85, 109]\n"
          ],
          "name": "stdout"
        }
      ]
    },
    {
      "cell_type": "markdown",
      "metadata": {
        "id": "gt9-N4MhAuW-"
      },
      "source": [
        "##### 2. Strips every vowel from a string provided (tsai>>t s)"
      ]
    },
    {
      "cell_type": "code",
      "metadata": {
        "id": "9LredXIoAtb-"
      },
      "source": [
        "# From a given string, remove the vowels and return the string left\n",
        "# remove_vowels = lambda st: \"\".join(filter(lambda ch: ch not in ['a', 'e', 'i', 'o', 'u', 'A', 'E', 'I', 'O', 'U'], st)) # Without list comprehension\n",
        "vowels = ['a', 'e', 'i', 'o', 'u', 'A', 'E', 'I', 'O', 'U']\n",
        "remove_vowels = lambda st: \"\".join([ch for ch in st if ch not in vowels])"
      ],
      "execution_count": 13,
      "outputs": []
    },
    {
      "cell_type": "code",
      "metadata": {
        "id": "NRmrQMNmBFlW",
        "outputId": "ec660e82-2a1f-4fa4-ddbd-4b0059808181",
        "colab": {
          "base_uri": "https://localhost:8080/"
        }
      },
      "source": [
        "print(remove_vowels('tsai'))"
      ],
      "execution_count": 14,
      "outputs": [
        {
          "output_type": "stream",
          "text": [
            "ts\n"
          ],
          "name": "stdout"
        }
      ]
    },
    {
      "cell_type": "markdown",
      "metadata": {
        "id": "hjmjaaNLBOqA"
      },
      "source": [
        "##### 3. Acts like a ReLU function for a 1D array"
      ]
    },
    {
      "cell_type": "code",
      "metadata": {
        "id": "zs-g3tJRBNpO"
      },
      "source": [
        "# Simple implementation of ReLU activation function\n",
        "# ReLU = lambda l: list(map(lambda x: x if x>=0 else 0, l)) # Without list comprehension\n",
        "ReLU = lambda l: [x if x>0 else 0 for x in l]"
      ],
      "execution_count": 16,
      "outputs": []
    },
    {
      "cell_type": "code",
      "metadata": {
        "id": "d-K75AFRBdKA",
        "outputId": "7a0d8aff-43ad-413a-94b6-2873d0a5526c",
        "colab": {
          "base_uri": "https://localhost:8080/"
        }
      },
      "source": [
        "x = [0.1, -0.2, 1, -2, 3, -0.3, 0, 29, -100]\n",
        "print(ReLU(x))"
      ],
      "execution_count": 17,
      "outputs": [
        {
          "output_type": "stream",
          "text": [
            "[0.1, 0, 1, 0, 3, 0, 0, 29, 0]\n"
          ],
          "name": "stdout"
        }
      ]
    },
    {
      "cell_type": "markdown",
      "metadata": {
        "id": "NtpsBVn2B2xA"
      },
      "source": [
        "##### 4. Acts like a sigmoid function for a 1D array"
      ]
    },
    {
      "cell_type": "code",
      "metadata": {
        "id": "RbIvSTI2Bxfd"
      },
      "source": [
        "# Simple implementation of Sigmoid activation function\n",
        "# sigmoid = lambda l: list(map(lambda x: (1 / (1 + math.exp(-x))), l)) # Without list comprehension\n",
        "sigmoid = lambda l: [(1 / (1 + math.exp(-x))) for x in l]"
      ],
      "execution_count": 18,
      "outputs": []
    },
    {
      "cell_type": "code",
      "metadata": {
        "id": "ogoF4te8CCiq",
        "outputId": "40033fca-86e4-492a-854c-f3a3d0a680b2",
        "colab": {
          "base_uri": "https://localhost:8080/"
        }
      },
      "source": [
        "x = [0.1, -0.2, 1, 3, -0.3, 29, -100]\n",
        "print(sigmoid(x))"
      ],
      "execution_count": 26,
      "outputs": [
        {
          "output_type": "stream",
          "text": [
            "[0.52497918747894, 0.45016600268752216, 0.7310585786300049, 0.9525741268224334, 0.425557483188341, 0.9999999999997455, 3.7200759760208356e-44]\n"
          ],
          "name": "stdout"
        }
      ]
    },
    {
      "cell_type": "markdown",
      "metadata": {
        "id": "MxHFJONUCuZD"
      },
      "source": [
        "##### 5. takes a small character string and shifts all characters by 5 (handle boundary conditions) tsai>>yxfn"
      ]
    },
    {
      "cell_type": "code",
      "metadata": {
        "id": "viO5CwzpCthR"
      },
      "source": [
        "# Shift the alphabets of the input string, right by 5 places. Also works cyclically, i.e, for z the output is e\n",
        "shift_alphabets = lambda st: \"\".join([chr(((ord(ch)+5)%97%26)+97) for ch in st])"
      ],
      "execution_count": 27,
      "outputs": []
    },
    {
      "cell_type": "code",
      "metadata": {
        "id": "B9yDGNO5C4jj",
        "outputId": "c74d0e7f-6d93-4902-ac42-e0822932e5fb",
        "colab": {
          "base_uri": "https://localhost:8080/"
        }
      },
      "source": [
        "print(shift_alphabets('tsai'))"
      ],
      "execution_count": 28,
      "outputs": [
        {
          "output_type": "stream",
          "text": [
            "yxfn\n"
          ],
          "name": "stdout"
        }
      ]
    },
    {
      "cell_type": "markdown",
      "metadata": {
        "id": "PuZ6PnuyDJHt"
      },
      "source": [
        "## Question 3\n",
        "A list comprehension expression that takes a ~200 word paragraph (write your own paragraph to check), and checks whether it has any of the swear words mentioned in https://github.com/RobertJGabriel/Google-profanity-words/blob/master/list.txt"
      ]
    },
    {
      "cell_type": "code",
      "metadata": {
        "id": "KsrhmPEVDGnX"
      },
      "source": [
        "# Reading text file using url and storing the swear words as a list\n",
        "url = \"https://raw.githubusercontent.com/RobertJGabriel/Google-profanity-words/master/list.txt\"\n",
        "file = urllib.request.urlopen(url)\n",
        "swear_words = [line.decode(\"utf-8\").strip(' ').split('\\n')[0] for line in file.readlines()]\n",
        "\n",
        "# From a paragraph of words, check is there is any swear word present. Returns True if present, else fale.\n",
        "has_swear_words = lambda para: any([True if word in swear_words else False for word in re.split('[ .\\n,!\\'\\\"]', para)])"
      ],
      "execution_count": 29,
      "outputs": []
    },
    {
      "cell_type": "code",
      "metadata": {
        "id": "wYyl-s0vDeyb",
        "outputId": "0091ddfc-c45c-4b47-ac41-98edbd0858c2",
        "colab": {
          "base_uri": "https://localhost:8080/"
        }
      },
      "source": [
        "para1 = \"\"\"Lorem ipsum dolor sit amet, consectetur adipiscing elit, sed do eiusmod tempor incididunt ut labore et dolore magna aliqua.\n",
        "  Ut enim ad minim veniam, quis nostrud exercitation ullamco laboris nisi ut aliquip ex ea commodo consequat. Duis aute irure dolor in \n",
        "  reprehenderit in voluptate velit esse cillum dolore eu fugiat nulla pariatur. Excepteur sint occaecat cupidatat non proident, sunt in \n",
        "  culpa qui officia deserunt mollit anim id est laborum.\"\"\"\n",
        "\n",
        "para2 = \"\"\"Lorem ipsum dolor sit amet, damn consectetur adipiscing elit, sed do eiusmod tempor incididunt ut labore et dolore magna aliqua.\n",
        "  Ut enim ad minim veniam, quis nostrud exercitation ullamco laboris nisi ut aliquip ex ea commodo consequat. Duis aute irure dolor in \n",
        "  reprehenderit in voluptate velit esse cillum dolore fanny eu fugiat nulla pariatur. Excepteur twat sint occaecat cupidatat non proident, sunt in \n",
        "  culpa qui officia deserunt mollit anim id est laborum.\"\"\"\n",
        "\n",
        "# para1 has no swear words.\n",
        "print(f'para1 has swear words: {has_swear_words(para1)}')\n",
        "# para2 has swear words.\n",
        "print(f'para1 has swear words: {has_swear_words(para2)}')"
      ],
      "execution_count": 30,
      "outputs": [
        {
          "output_type": "stream",
          "text": [
            "para1 has swear words: False\n",
            "para1 has swear words: True\n"
          ],
          "name": "stdout"
        }
      ]
    },
    {
      "cell_type": "markdown",
      "metadata": {
        "id": "uCWjRN_NEIDx"
      },
      "source": [
        "## Question 4\n",
        "##### Using reduce functions:"
      ]
    },
    {
      "cell_type": "markdown",
      "metadata": {
        "id": "bpFNAaoDER_n"
      },
      "source": [
        "##### 1. Add only even numbers in a list"
      ]
    },
    {
      "cell_type": "code",
      "metadata": {
        "id": "h6r72NjWEWHh"
      },
      "source": [
        "# Using reduce function to add all the even numbers in an input list\n",
        "add_even = lambda l: reduce(lambda a, b: a+b if b%2==0 else a, l, 0)"
      ],
      "execution_count": 31,
      "outputs": []
    },
    {
      "cell_type": "code",
      "metadata": {
        "id": "zxc07bU_EbvU",
        "outputId": "fdfcae2f-95b5-41cf-dbdb-ac45f2fef5b2",
        "colab": {
          "base_uri": "https://localhost:8080/"
        }
      },
      "source": [
        "list1 = [11, 22, 33, 44, 55, 66, 77, 88, 99, 110]\n",
        "print(add_even(list1))"
      ],
      "execution_count": 32,
      "outputs": [
        {
          "output_type": "stream",
          "text": [
            "330\n"
          ],
          "name": "stdout"
        }
      ]
    },
    {
      "cell_type": "markdown",
      "metadata": {
        "id": "i5gOOdfrEzPa"
      },
      "source": [
        "##### 2. Find the biggest character in a string (printable ascii characters)"
      ]
    },
    {
      "cell_type": "code",
      "metadata": {
        "id": "RRcks-o4E3XK"
      },
      "source": [
        "# Using reduce function to find the biggest character in a string according to ASCII encoding\n",
        "find_biggest_character = lambda st: reduce(lambda a, b: a if ord(a)>ord(b) else b, st)"
      ],
      "execution_count": 33,
      "outputs": []
    },
    {
      "cell_type": "code",
      "metadata": {
        "id": "yONTmEtEFBnG",
        "outputId": "a4ab9b6e-9f25-445b-884f-37e692b4149c",
        "colab": {
          "base_uri": "https://localhost:8080/"
        }
      },
      "source": [
        "print(f\"Biggest character in Apple: {find_biggest_character('Apple')}\")\n",
        "print(f\"Biggest character in SAMSUNG: {find_biggest_character('SAMSUNG')}\")"
      ],
      "execution_count": 36,
      "outputs": [
        {
          "output_type": "stream",
          "text": [
            "Biggest character in Apple: p\n",
            "Biggest character in SAMSUNG: U\n"
          ],
          "name": "stdout"
        }
      ]
    },
    {
      "cell_type": "markdown",
      "metadata": {
        "id": "lBPPomn-FlPZ"
      },
      "source": [
        "##### 3. Add every 3rd number in a list"
      ]
    },
    {
      "cell_type": "code",
      "metadata": {
        "id": "QYmDtwmOFjT2"
      },
      "source": [
        "# Using reduce function to add every third number in an input list\n",
        "# Note that we use `l[2::3]` because at index 2, we find the very first number that is at third position.\n",
        "# Here onwards, we take every other third number, skipping the numbers in between.\n",
        "add_third = lambda l: reduce(lambda a, b: a+b, l[2::3], 0)"
      ],
      "execution_count": 38,
      "outputs": []
    },
    {
      "cell_type": "code",
      "metadata": {
        "id": "lgHWtJx8F7SJ",
        "outputId": "062b8562-cc7b-40ab-809a-8f2c94a8500d",
        "colab": {
          "base_uri": "https://localhost:8080/"
        }
      },
      "source": [
        "print(add_third([1, 2, 0, 4, 5, 0, 7, 8, 0]))\n",
        "print(add_third([1, 2, 2, 4, 5, 318, 7, 8, 1]))"
      ],
      "execution_count": 39,
      "outputs": [
        {
          "output_type": "stream",
          "text": [
            "0\n",
            "321\n"
          ],
          "name": "stdout"
        }
      ]
    },
    {
      "cell_type": "markdown",
      "metadata": {
        "id": "Gw80AcW_GoZ8"
      },
      "source": [
        "## Question 5\n",
        "Using randint, random.choice and list comprehensions, write an expression that generates 15 random KADDAADDDD number plates, where KA is fixed, D stands for a digit, and A stands for Capital alphabets. 10<<DD<<99 & 1000<<DDDD<<9999"
      ]
    },
    {
      "cell_type": "code",
      "metadata": {
        "id": "58Hx3EMiGr4n"
      },
      "source": [
        "# Generating 15 random number plates of the form 'KADDAADDDD', where the range of numbers and other values are hardcoded\n",
        "random_KA_plates = lambda: [f\"KA{randint(10, 99)}{chr(randint(65, 90))}{chr(randint(65, 90))}{randint(1000, 9999)}\" for i in range(15)]"
      ],
      "execution_count": 40,
      "outputs": []
    },
    {
      "cell_type": "code",
      "metadata": {
        "id": "oTCSSK7qG7ii",
        "outputId": "65daf58b-af02-4694-f32d-f162c50676a9",
        "colab": {
          "base_uri": "https://localhost:8080/"
        }
      },
      "source": [
        "random_KA_plates()"
      ],
      "execution_count": 42,
      "outputs": [
        {
          "output_type": "execute_result",
          "data": {
            "text/plain": [
              "['KA90KM6095',\n",
              " 'KA84XI4035',\n",
              " 'KA89DF1201',\n",
              " 'KA41WM5583',\n",
              " 'KA55BK3906',\n",
              " 'KA66EY1573',\n",
              " 'KA35PH1562',\n",
              " 'KA96CS7654',\n",
              " 'KA80XK5191',\n",
              " 'KA64XE7132',\n",
              " 'KA15MP8668',\n",
              " 'KA70DB8731',\n",
              " 'KA76CY2064',\n",
              " 'KA75JM1287',\n",
              " 'KA36VT3839']"
            ]
          },
          "metadata": {
            "tags": []
          },
          "execution_count": 42
        }
      ]
    },
    {
      "cell_type": "markdown",
      "metadata": {
        "id": "UUfZ5HaxHQOC"
      },
      "source": [
        "## Question 6\n",
        "Write the above again from scratch where KA can be changed to DL, and 1000/9999 ranges can be provided."
      ]
    },
    {
      "cell_type": "code",
      "metadata": {
        "id": "YU4qDRL_HAG2"
      },
      "source": [
        "# Generating 15 random number plates where the state_id and the vehicle last 4-dig number range can be a user input.\n",
        "# Though we also have default values.\n",
        "random_plates = lambda st='KA', rng=(1000, 9999):  \\\n",
        "[f\"{st}{randint(10, 99)}{chr(randint(65, 90))}{chr(randint(65, 90))}{randint(rng[0], rng[1])}\" for i in range(15)]"
      ],
      "execution_count": 43,
      "outputs": []
    },
    {
      "cell_type": "code",
      "metadata": {
        "id": "SjHO821pHjsK",
        "outputId": "b6ae3b8c-7aa5-4424-f11e-5bdb7468f5cd",
        "colab": {
          "base_uri": "https://localhost:8080/"
        }
      },
      "source": [
        "random_plates('DL', (5000, 5010))"
      ],
      "execution_count": 45,
      "outputs": [
        {
          "output_type": "execute_result",
          "data": {
            "text/plain": [
              "['DL56DO5010',\n",
              " 'DL87LE5009',\n",
              " 'DL81RU5010',\n",
              " 'DL80KX5009',\n",
              " 'DL87AJ5008',\n",
              " 'DL10EC5009',\n",
              " 'DL59TD5008',\n",
              " 'DL88QY5005',\n",
              " 'DL86JG5007',\n",
              " 'DL49IW5007',\n",
              " 'DL58VJ5003',\n",
              " 'DL33TU5002',\n",
              " 'DL30EV5002',\n",
              " 'DL40CD5008',\n",
              " 'DL79RE5009']"
            ]
          },
          "metadata": {
            "tags": []
          },
          "execution_count": 45
        }
      ]
    }
  ]
}